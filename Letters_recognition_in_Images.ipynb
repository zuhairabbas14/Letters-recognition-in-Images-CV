{
  "nbformat": 4,
  "nbformat_minor": 0,
  "metadata": {
    "colab": {
      "name": "Letters recognition in Images ",
      "provenance": []
    },
    "kernelspec": {
      "name": "python3",
      "display_name": "Python 3"
    }
  },
  "cells": [
    {
      "cell_type": "code",
      "metadata": {
        "colab": {
          "base_uri": "https://localhost:8080/"
        },
        "id": "LYMZ1-tliA7b",
        "outputId": "0d69eafc-24bb-4461-d582-c675868f4b0e"
      },
      "source": [
        "from pytesseract import Output\n",
        "\n",
        "img = cv2.imread('PAI.png')\n",
        "gray = cv2.cvtColor(img, cv2.COLOR_RGB2GRAY)\n",
        "gray, img_bin = cv2.threshold(gray,128,255,cv2.THRESH_BINARY | cv2.THRESH_OTSU)\n",
        "gray = cv2.bitwise_not(img_bin)\n",
        "\n",
        "kernel = np.ones((1, 2), np.uint8)\n",
        "img = cv2.erode(gray, kernel, iterations=1)\n",
        "img = cv2.dilate(img, kernel, iterations=1)\n",
        "img = cv2.medianBlur(img, 2)\n",
        "\n",
        "kernel = np.array([[-1,-1,-1], [-1,9,-1], [-1,-1,-1]])\n",
        "img = cv2.filter2D(img, -1, kernel)\n",
        "out_below = pytesseract.image_to_string(img)\n",
        "print(\"OUTPUT:\", out_below)"
      ],
      "execution_count": null,
      "outputs": [
        {
          "output_type": "stream",
          "text": [
            "OUTPUT: Practica Arkitietal {ell oes\n",
            "\f\n"
          ],
          "name": "stdout"
        }
      ]
    },
    {
      "cell_type": "code",
      "metadata": {
        "id": "dhKgWYMdgwXt"
      },
      "source": [
        "from spellchecker import SpellChecker \n",
        "\n",
        "# http://norvig.com/big.txt\n",
        "# http://norvig.com/spell-correct.html\n",
        "\n",
        "word = 'Arkitietal'\n",
        "\n",
        "spell = SpellChecker(distance=2) # distance=1 for longer words\n",
        "print(spell.correction(word))\n",
        "print(spell.candidates(word))"
      ],
      "execution_count": null,
      "outputs": []
    }
  ]
}